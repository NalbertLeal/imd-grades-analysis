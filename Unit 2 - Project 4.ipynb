{
 "cells": [
  {
   "cell_type": "code",
   "execution_count": 97,
   "metadata": {
    "collapsed": false
   },
   "outputs": [
    {
     "name": "stdout",
     "output_type": "stream",
     "text": [
      "['Sheet1']\n"
     ]
    }
   ],
   "source": [
    "# Import pandas\n",
    "import pandas as pd\n",
    "\n",
    "# Assign spreadsheet filename: file\n",
    "file = 'imd_student_blind.xlsx'\n",
    "\n",
    "# Load spreadsheet: xl\n",
    "xl = pd.ExcelFile(file)\n",
    "\n",
    "# Print sheet names\n",
    "print(xl.sheet_names)"
   ]
  },
  {
   "cell_type": "code",
   "execution_count": 98,
   "metadata": {
    "collapsed": false
   },
   "outputs": [
    {
     "data": {
      "text/html": [
       "<div>\n",
       "<table border=\"1\" class=\"dataframe\">\n",
       "  <thead>\n",
       "    <tr style=\"text-align: right;\">\n",
       "      <th></th>\n",
       "      <th>a_ID</th>\n",
       "      <th>CEP</th>\n",
       "      <th>ano_ingresso</th>\n",
       "      <th>periodo_ingresso</th>\n",
       "      <th>status</th>\n",
       "      <th>ano_disciplina</th>\n",
       "      <th>periodo_disciplina</th>\n",
       "      <th>nota</th>\n",
       "      <th>disciplina_ID</th>\n",
       "      <th>status.disciplina</th>\n",
       "    </tr>\n",
       "  </thead>\n",
       "  <tbody>\n",
       "    <tr>\n",
       "      <th>0</th>\n",
       "      <td>0</td>\n",
       "      <td>59015430</td>\n",
       "      <td>2014</td>\n",
       "      <td>1</td>\n",
       "      <td>CANCELADO</td>\n",
       "      <td>2014</td>\n",
       "      <td>2</td>\n",
       "      <td>2.6</td>\n",
       "      <td>0</td>\n",
       "      <td>Reprovado</td>\n",
       "    </tr>\n",
       "    <tr>\n",
       "      <th>1</th>\n",
       "      <td>0</td>\n",
       "      <td>59015430</td>\n",
       "      <td>2014</td>\n",
       "      <td>1</td>\n",
       "      <td>CANCELADO</td>\n",
       "      <td>2015</td>\n",
       "      <td>1</td>\n",
       "      <td>8.0</td>\n",
       "      <td>0</td>\n",
       "      <td>Aprovado</td>\n",
       "    </tr>\n",
       "    <tr>\n",
       "      <th>2</th>\n",
       "      <td>1</td>\n",
       "      <td>59073120</td>\n",
       "      <td>2014</td>\n",
       "      <td>1</td>\n",
       "      <td>CANCELADO</td>\n",
       "      <td>2014</td>\n",
       "      <td>2</td>\n",
       "      <td>0.1</td>\n",
       "      <td>0</td>\n",
       "      <td>Reprovado</td>\n",
       "    </tr>\n",
       "    <tr>\n",
       "      <th>3</th>\n",
       "      <td>2</td>\n",
       "      <td>59072580</td>\n",
       "      <td>2014</td>\n",
       "      <td>1</td>\n",
       "      <td>ATIVO</td>\n",
       "      <td>2014</td>\n",
       "      <td>2</td>\n",
       "      <td>6.1</td>\n",
       "      <td>0</td>\n",
       "      <td>Aprovado</td>\n",
       "    </tr>\n",
       "    <tr>\n",
       "      <th>4</th>\n",
       "      <td>3</td>\n",
       "      <td>59088150</td>\n",
       "      <td>2014</td>\n",
       "      <td>1</td>\n",
       "      <td>ATIVO</td>\n",
       "      <td>2014</td>\n",
       "      <td>1</td>\n",
       "      <td>3.0</td>\n",
       "      <td>0</td>\n",
       "      <td>Reprovado</td>\n",
       "    </tr>\n",
       "  </tbody>\n",
       "</table>\n",
       "</div>"
      ],
      "text/plain": [
       "   a_ID       CEP  ano_ingresso  periodo_ingresso     status  ano_disciplina  \\\n",
       "0     0  59015430          2014                 1  CANCELADO            2014   \n",
       "1     0  59015430          2014                 1  CANCELADO            2015   \n",
       "2     1  59073120          2014                 1  CANCELADO            2014   \n",
       "3     2  59072580          2014                 1      ATIVO            2014   \n",
       "4     3  59088150          2014                 1      ATIVO            2014   \n",
       "\n",
       "   periodo_disciplina  nota  disciplina_ID status.disciplina  \n",
       "0                   2   2.6              0         Reprovado  \n",
       "1                   1   8.0              0          Aprovado  \n",
       "2                   2   0.1              0         Reprovado  \n",
       "3                   2   6.1              0          Aprovado  \n",
       "4                   1   3.0              0         Reprovado  "
      ]
     },
     "execution_count": 98,
     "metadata": {},
     "output_type": "execute_result"
    }
   ],
   "source": [
    "# Load a sheet into a DataFrame by index: df\n",
    "df = xl.parse(0)\n",
    "\n",
    "# Print the head of the DataFrame df\n",
    "df.head()"
   ]
  },
  {
   "cell_type": "code",
   "execution_count": 99,
   "metadata": {
    "collapsed": false
   },
   "outputs": [
    {
     "data": {
      "text/plain": [
       "Index(['a_ID', 'CEP', 'ano_ingresso', 'periodo_ingresso', 'status',\n",
       "       'ano_disciplina', 'periodo_disciplina', 'nota', 'disciplina_ID',\n",
       "       'status.disciplina'],\n",
       "      dtype='object')"
      ]
     },
     "execution_count": 99,
     "metadata": {},
     "output_type": "execute_result"
    }
   ],
   "source": [
    "df.columns"
   ]
  },
  {
   "cell_type": "code",
   "execution_count": 86,
   "metadata": {
    "collapsed": false
   },
   "outputs": [
    {
     "data": {
      "text/plain": [
       "(4842, 10)"
      ]
     },
     "execution_count": 86,
     "metadata": {},
     "output_type": "execute_result"
    }
   ],
   "source": [
    "df.shape"
   ]
  },
  {
   "cell_type": "code",
   "execution_count": 6,
   "metadata": {
    "collapsed": false
   },
   "outputs": [],
   "source": [
    "disciplina_0 = df[df['disciplina_ID'] == 0]"
   ]
  },
  {
   "cell_type": "code",
   "execution_count": 182,
   "metadata": {
    "collapsed": false
   },
   "outputs": [
    {
     "name": "stdout",
     "output_type": "stream",
     "text": [
      "<class 'pandas.core.frame.DataFrame'>\n",
      "Int64Index: 4842 entries, 0 to 4841\n",
      "Data columns (total 10 columns):\n",
      "a_ID                  4842 non-null int64\n",
      "CEP                   4842 non-null int64\n",
      "ano_ingresso          4842 non-null int64\n",
      "periodo_ingresso      4842 non-null int64\n",
      "status                4842 non-null object\n",
      "ano_disciplina        4842 non-null int64\n",
      "periodo_disciplina    4842 non-null int64\n",
      "nota                  4842 non-null float64\n",
      "disciplina_ID         4842 non-null int64\n",
      "status.disciplina     4842 non-null object\n",
      "dtypes: float64(1), int64(7), object(2)\n",
      "memory usage: 416.1+ KB\n"
     ]
    }
   ],
   "source": [
    "#Cópia por valores, não mexer no DF principal\n",
    "import copy\n",
    "disciplinas = copy.copy(df)\n",
    "disciplinas.info()"
   ]
  },
  {
   "cell_type": "code",
   "execution_count": 183,
   "metadata": {
    "collapsed": false
   },
   "outputs": [
    {
     "data": {
      "text/plain": [
       "['a_ID',\n",
       " 'CEP',\n",
       " 'ano_ingresso',\n",
       " 'periodo_ingresso',\n",
       " 'status',\n",
       " 'ano_disciplina',\n",
       " 'periodo_disciplina',\n",
       " 'nota',\n",
       " 'disciplina_ID',\n",
       " 'status.disciplina']"
      ]
     },
     "execution_count": 183,
     "metadata": {},
     "output_type": "execute_result"
    }
   ],
   "source": [
    "disciplinas.columns.values.tolist()"
   ]
  },
  {
   "cell_type": "code",
   "execution_count": 184,
   "metadata": {
    "collapsed": false
   },
   "outputs": [],
   "source": [
    "#Retira informações desnecessárias para essa análise\n",
    "\n",
    "disciplinas.drop(disciplinas.columns[0:4], axis=1, inplace=True)"
   ]
  },
  {
   "cell_type": "code",
   "execution_count": 185,
   "metadata": {
    "collapsed": false
   },
   "outputs": [
    {
     "data": {
      "text/plain": [
       "['status',\n",
       " 'ano_disciplina',\n",
       " 'periodo_disciplina',\n",
       " 'nota',\n",
       " 'disciplina_ID',\n",
       " 'status.disciplina']"
      ]
     },
     "execution_count": 185,
     "metadata": {},
     "output_type": "execute_result"
    }
   ],
   "source": [
    "#Objetivo 1 -> Média da disciplina X por período e ano\n",
    "#Objetivo 2 -> Taxa de trancamento e cancelamento por período e ano\n",
    "disciplinas.columns.values.tolist()"
   ]
  },
  {
   "cell_type": "code",
   "execution_count": 189,
   "metadata": {
    "collapsed": false,
    "scrolled": true
   },
   "outputs": [
    {
     "data": {
      "text/html": [
       "<div>\n",
       "<table border=\"1\" class=\"dataframe\">\n",
       "  <thead>\n",
       "    <tr style=\"text-align: right;\">\n",
       "      <th></th>\n",
       "      <th>status</th>\n",
       "      <th>ano_disciplina</th>\n",
       "      <th>periodo_disciplina</th>\n",
       "      <th>nota</th>\n",
       "      <th>disciplina_ID</th>\n",
       "      <th>status.disciplina</th>\n",
       "    </tr>\n",
       "  </thead>\n",
       "  <tbody>\n",
       "    <tr>\n",
       "      <th>3</th>\n",
       "      <td>ATIVO</td>\n",
       "      <td>2014</td>\n",
       "      <td>2</td>\n",
       "      <td>6.1</td>\n",
       "      <td>0</td>\n",
       "      <td>Aprovado</td>\n",
       "    </tr>\n",
       "    <tr>\n",
       "      <th>4</th>\n",
       "      <td>ATIVO</td>\n",
       "      <td>2014</td>\n",
       "      <td>1</td>\n",
       "      <td>3.0</td>\n",
       "      <td>0</td>\n",
       "      <td>Reprovado</td>\n",
       "    </tr>\n",
       "    <tr>\n",
       "      <th>5</th>\n",
       "      <td>ATIVO</td>\n",
       "      <td>2014</td>\n",
       "      <td>2</td>\n",
       "      <td>7.2</td>\n",
       "      <td>0</td>\n",
       "      <td>Aprovado</td>\n",
       "    </tr>\n",
       "    <tr>\n",
       "      <th>8</th>\n",
       "      <td>ATIVO</td>\n",
       "      <td>2014</td>\n",
       "      <td>2</td>\n",
       "      <td>8.9</td>\n",
       "      <td>0</td>\n",
       "      <td>Aprovado</td>\n",
       "    </tr>\n",
       "    <tr>\n",
       "      <th>12</th>\n",
       "      <td>ATIVO</td>\n",
       "      <td>2014</td>\n",
       "      <td>2</td>\n",
       "      <td>5.6</td>\n",
       "      <td>0</td>\n",
       "      <td>Aprovado</td>\n",
       "    </tr>\n",
       "  </tbody>\n",
       "</table>\n",
       "</div>"
      ],
      "text/plain": [
       "   status  ano_disciplina  periodo_disciplina  nota  disciplina_ID  \\\n",
       "3   ATIVO            2014                   2   6.1              0   \n",
       "4   ATIVO            2014                   1   3.0              0   \n",
       "5   ATIVO            2014                   2   7.2              0   \n",
       "8   ATIVO            2014                   2   8.9              0   \n",
       "12  ATIVO            2014                   2   5.6              0   \n",
       "\n",
       "   status.disciplina  \n",
       "3           Aprovado  \n",
       "4          Reprovado  \n",
       "5           Aprovado  \n",
       "8           Aprovado  \n",
       "12          Aprovado  "
      ]
     },
     "execution_count": 189,
     "metadata": {},
     "output_type": "execute_result"
    }
   ],
   "source": [
    "disciplinas = disciplinas[disciplinas['status'] == 'ATIVO']\n",
    "disciplinas.head()"
   ]
  },
  {
   "cell_type": "code",
   "execution_count": 207,
   "metadata": {
    "collapsed": false
   },
   "outputs": [
    {
     "name": "stdout",
     "output_type": "stream",
     "text": [
      "<class 'pandas.core.frame.DataFrame'>\n",
      "RangeIndex: 42 entries, 0 to 41\n",
      "Data columns (total 4 columns):\n",
      "ano_disciplina        42 non-null int64\n",
      "periodo_disciplina    42 non-null int64\n",
      "disciplina_ID         42 non-null int64\n",
      "nota                  42 non-null float64\n",
      "dtypes: float64(1), int64(3)\n",
      "memory usage: 1.4 KB\n"
     ]
    }
   ],
   "source": [
    "disciplinas_categorias =  disciplinas.groupby(['ano_disciplina', 'periodo_disciplina', 'disciplina_ID']).mean()\n",
    "\n",
    "# convert the index to a column\n",
    "disciplinas_categorias.reset_index(inplace = True )\n",
    "disciplinas_categorias.info()"
   ]
  },
  {
   "cell_type": "code",
   "execution_count": 219,
   "metadata": {
    "collapsed": false
   },
   "outputs": [
    {
     "data": {
      "text/html": [
       "<div>\n",
       "<table border=\"1\" class=\"dataframe\">\n",
       "  <thead>\n",
       "    <tr style=\"text-align: right;\">\n",
       "      <th></th>\n",
       "      <th>ano_disciplina</th>\n",
       "      <th>periodo_disciplina</th>\n",
       "      <th>disciplina_ID</th>\n",
       "      <th>nota</th>\n",
       "    </tr>\n",
       "  </thead>\n",
       "  <tbody>\n",
       "    <tr>\n",
       "      <th>0</th>\n",
       "      <td>2014</td>\n",
       "      <td>1</td>\n",
       "      <td>0</td>\n",
       "      <td>5.872727</td>\n",
       "    </tr>\n",
       "    <tr>\n",
       "      <th>6</th>\n",
       "      <td>2014</td>\n",
       "      <td>2</td>\n",
       "      <td>0</td>\n",
       "      <td>5.625676</td>\n",
       "    </tr>\n",
       "    <tr>\n",
       "      <th>13</th>\n",
       "      <td>2015</td>\n",
       "      <td>1</td>\n",
       "      <td>0</td>\n",
       "      <td>6.126316</td>\n",
       "    </tr>\n",
       "    <tr>\n",
       "      <th>19</th>\n",
       "      <td>2015</td>\n",
       "      <td>2</td>\n",
       "      <td>0</td>\n",
       "      <td>5.486555</td>\n",
       "    </tr>\n",
       "    <tr>\n",
       "      <th>26</th>\n",
       "      <td>2016</td>\n",
       "      <td>1</td>\n",
       "      <td>0</td>\n",
       "      <td>4.139394</td>\n",
       "    </tr>\n",
       "    <tr>\n",
       "      <th>33</th>\n",
       "      <td>2016</td>\n",
       "      <td>2</td>\n",
       "      <td>0</td>\n",
       "      <td>5.750758</td>\n",
       "    </tr>\n",
       "  </tbody>\n",
       "</table>\n",
       "</div>"
      ],
      "text/plain": [
       "    ano_disciplina  periodo_disciplina  disciplina_ID      nota\n",
       "0             2014                   1              0  5.872727\n",
       "6             2014                   2              0  5.625676\n",
       "13            2015                   1              0  6.126316\n",
       "19            2015                   2              0  5.486555\n",
       "26            2016                   1              0  4.139394\n",
       "33            2016                   2              0  5.750758"
      ]
     },
     "execution_count": 219,
     "metadata": {},
     "output_type": "execute_result"
    }
   ],
   "source": [
    "disciplinas_categorias[disciplinas_categorias['disciplina_ID'] == 0]"
   ]
  },
  {
   "cell_type": "code",
   "execution_count": 216,
   "metadata": {
    "collapsed": false
   },
   "outputs": [
    {
     "data": {
      "text/html": [
       "\n",
       "    <div class=\"bk-root\">\n",
       "        <a href=\"http://bokeh.pydata.org\" target=\"_blank\" class=\"bk-logo bk-logo-small bk-logo-notebook\"></a>\n",
       "        <span id=\"0a6d2d51-29dc-4299-bcf7-2a99fdc2ed31\">Loading BokehJS ...</span>\n",
       "    </div>"
      ]
     },
     "metadata": {},
     "output_type": "display_data"
    },
    {
     "data": {
      "application/javascript": [
       "\n",
       "(function(global) {\n",
       "  function now() {\n",
       "    return new Date();\n",
       "  }\n",
       "\n",
       "  var force = \"1\";\n",
       "\n",
       "  if (typeof (window._bokeh_onload_callbacks) === \"undefined\" || force !== \"\") {\n",
       "    window._bokeh_onload_callbacks = [];\n",
       "    window._bokeh_is_loading = undefined;\n",
       "  }\n",
       "\n",
       "\n",
       "  \n",
       "  if (typeof (window._bokeh_timeout) === \"undefined\" || force !== \"\") {\n",
       "    window._bokeh_timeout = Date.now() + 5000;\n",
       "    window._bokeh_failed_load = false;\n",
       "  }\n",
       "\n",
       "  var NB_LOAD_WARNING = {'data': {'text/html':\n",
       "     \"<div style='background-color: #fdd'>\\n\"+\n",
       "     \"<p>\\n\"+\n",
       "     \"BokehJS does not appear to have successfully loaded. If loading BokehJS from CDN, this \\n\"+\n",
       "     \"may be due to a slow or bad network connection. Possible fixes:\\n\"+\n",
       "     \"</p>\\n\"+\n",
       "     \"<ul>\\n\"+\n",
       "     \"<li>re-rerun `output_notebook()` to attempt to load from CDN again, or</li>\\n\"+\n",
       "     \"<li>use INLINE resources instead, as so:</li>\\n\"+\n",
       "     \"</ul>\\n\"+\n",
       "     \"<code>\\n\"+\n",
       "     \"from bokeh.resources import INLINE\\n\"+\n",
       "     \"output_notebook(resources=INLINE)\\n\"+\n",
       "     \"</code>\\n\"+\n",
       "     \"</div>\"}};\n",
       "\n",
       "  function display_loaded() {\n",
       "    if (window.Bokeh !== undefined) {\n",
       "      Bokeh.$(\"#0a6d2d51-29dc-4299-bcf7-2a99fdc2ed31\").text(\"BokehJS successfully loaded.\");\n",
       "    } else if (Date.now() < window._bokeh_timeout) {\n",
       "      setTimeout(display_loaded, 100)\n",
       "    }\n",
       "  }\n",
       "\n",
       "  function run_callbacks() {\n",
       "    window._bokeh_onload_callbacks.forEach(function(callback) { callback() });\n",
       "    delete window._bokeh_onload_callbacks\n",
       "    console.info(\"Bokeh: all callbacks have finished\");\n",
       "  }\n",
       "\n",
       "  function load_libs(js_urls, callback) {\n",
       "    window._bokeh_onload_callbacks.push(callback);\n",
       "    if (window._bokeh_is_loading > 0) {\n",
       "      console.log(\"Bokeh: BokehJS is being loaded, scheduling callback at\", now());\n",
       "      return null;\n",
       "    }\n",
       "    if (js_urls == null || js_urls.length === 0) {\n",
       "      run_callbacks();\n",
       "      return null;\n",
       "    }\n",
       "    console.log(\"Bokeh: BokehJS not loaded, scheduling load and callback at\", now());\n",
       "    window._bokeh_is_loading = js_urls.length;\n",
       "    for (var i = 0; i < js_urls.length; i++) {\n",
       "      var url = js_urls[i];\n",
       "      var s = document.createElement('script');\n",
       "      s.src = url;\n",
       "      s.async = false;\n",
       "      s.onreadystatechange = s.onload = function() {\n",
       "        window._bokeh_is_loading--;\n",
       "        if (window._bokeh_is_loading === 0) {\n",
       "          console.log(\"Bokeh: all BokehJS libraries loaded\");\n",
       "          run_callbacks()\n",
       "        }\n",
       "      };\n",
       "      s.onerror = function() {\n",
       "        console.warn(\"failed to load library \" + url);\n",
       "      };\n",
       "      console.log(\"Bokeh: injecting script tag for BokehJS library: \", url);\n",
       "      document.getElementsByTagName(\"head\")[0].appendChild(s);\n",
       "    }\n",
       "  };var element = document.getElementById(\"0a6d2d51-29dc-4299-bcf7-2a99fdc2ed31\");\n",
       "  if (element == null) {\n",
       "    console.log(\"Bokeh: ERROR: autoload.js configured with elementid '0a6d2d51-29dc-4299-bcf7-2a99fdc2ed31' but no matching script tag was found. \")\n",
       "    return false;\n",
       "  }\n",
       "\n",
       "  var js_urls = ['https://cdn.pydata.org/bokeh/release/bokeh-0.12.2.min.js', 'https://cdn.pydata.org/bokeh/release/bokeh-widgets-0.12.2.min.js', 'https://cdn.pydata.org/bokeh/release/bokeh-compiler-0.12.2.min.js'];\n",
       "\n",
       "  var inline_js = [\n",
       "    function(Bokeh) {\n",
       "      Bokeh.set_log_level(\"info\");\n",
       "    },\n",
       "    \n",
       "    function(Bokeh) {\n",
       "      \n",
       "      Bokeh.$(\"#0a6d2d51-29dc-4299-bcf7-2a99fdc2ed31\").text(\"BokehJS is loading...\");\n",
       "    },\n",
       "    function(Bokeh) {\n",
       "      console.log(\"Bokeh: injecting CSS: https://cdn.pydata.org/bokeh/release/bokeh-0.12.2.min.css\");\n",
       "      Bokeh.embed.inject_css(\"https://cdn.pydata.org/bokeh/release/bokeh-0.12.2.min.css\");\n",
       "      console.log(\"Bokeh: injecting CSS: https://cdn.pydata.org/bokeh/release/bokeh-widgets-0.12.2.min.css\");\n",
       "      Bokeh.embed.inject_css(\"https://cdn.pydata.org/bokeh/release/bokeh-widgets-0.12.2.min.css\");\n",
       "    }\n",
       "  ];\n",
       "\n",
       "  function run_inline_js() {\n",
       "    \n",
       "    if ((window.Bokeh !== undefined) || (force === \"1\")) {\n",
       "      for (var i = 0; i < inline_js.length; i++) {\n",
       "        inline_js[i](window.Bokeh);\n",
       "      }if (force === \"1\") {\n",
       "        display_loaded();\n",
       "      }} else if (Date.now() < window._bokeh_timeout) {\n",
       "      setTimeout(run_inline_js, 100);\n",
       "    } else if (!window._bokeh_failed_load) {\n",
       "      console.log(\"Bokeh: BokehJS failed to load within specified timeout.\");\n",
       "      window._bokeh_failed_load = true;\n",
       "    } else if (!force) {\n",
       "      var cell = $(\"#0a6d2d51-29dc-4299-bcf7-2a99fdc2ed31\").parents('.cell').data().cell;\n",
       "      cell.output_area.append_execute_result(NB_LOAD_WARNING)\n",
       "    }\n",
       "\n",
       "  }\n",
       "\n",
       "  if (window._bokeh_is_loading === 0) {\n",
       "    console.log(\"Bokeh: BokehJS loaded, going straight to plotting\");\n",
       "    run_inline_js();\n",
       "  } else {\n",
       "    load_libs(js_urls, function() {\n",
       "      console.log(\"Bokeh: BokehJS plotting callback run at\", now());\n",
       "      run_inline_js();\n",
       "    });\n",
       "  }\n",
       "}(this));"
      ]
     },
     "metadata": {},
     "output_type": "display_data"
    },
    {
     "data": {
      "text/html": [
       "\n",
       "\n",
       "    <div class=\"bk-root\">\n",
       "        <div class=\"plotdiv\" id=\"aabe9a62-d708-4ad8-ad66-6d5b7f7bcf26\"></div>\n",
       "    </div>\n",
       "<script type=\"text/javascript\">\n",
       "  \n",
       "  (function(global) {\n",
       "    function now() {\n",
       "      return new Date();\n",
       "    }\n",
       "  \n",
       "    var force = \"\";\n",
       "  \n",
       "    if (typeof (window._bokeh_onload_callbacks) === \"undefined\" || force !== \"\") {\n",
       "      window._bokeh_onload_callbacks = [];\n",
       "      window._bokeh_is_loading = undefined;\n",
       "    }\n",
       "  \n",
       "  \n",
       "    \n",
       "    if (typeof (window._bokeh_timeout) === \"undefined\" || force !== \"\") {\n",
       "      window._bokeh_timeout = Date.now() + 0;\n",
       "      window._bokeh_failed_load = false;\n",
       "    }\n",
       "  \n",
       "    var NB_LOAD_WARNING = {'data': {'text/html':\n",
       "       \"<div style='background-color: #fdd'>\\n\"+\n",
       "       \"<p>\\n\"+\n",
       "       \"BokehJS does not appear to have successfully loaded. If loading BokehJS from CDN, this \\n\"+\n",
       "       \"may be due to a slow or bad network connection. Possible fixes:\\n\"+\n",
       "       \"</p>\\n\"+\n",
       "       \"<ul>\\n\"+\n",
       "       \"<li>re-rerun `output_notebook()` to attempt to load from CDN again, or</li>\\n\"+\n",
       "       \"<li>use INLINE resources instead, as so:</li>\\n\"+\n",
       "       \"</ul>\\n\"+\n",
       "       \"<code>\\n\"+\n",
       "       \"from bokeh.resources import INLINE\\n\"+\n",
       "       \"output_notebook(resources=INLINE)\\n\"+\n",
       "       \"</code>\\n\"+\n",
       "       \"</div>\"}};\n",
       "  \n",
       "    function display_loaded() {\n",
       "      if (window.Bokeh !== undefined) {\n",
       "        Bokeh.$(\"#aabe9a62-d708-4ad8-ad66-6d5b7f7bcf26\").text(\"BokehJS successfully loaded.\");\n",
       "      } else if (Date.now() < window._bokeh_timeout) {\n",
       "        setTimeout(display_loaded, 100)\n",
       "      }\n",
       "    }\n",
       "  \n",
       "    function run_callbacks() {\n",
       "      window._bokeh_onload_callbacks.forEach(function(callback) { callback() });\n",
       "      delete window._bokeh_onload_callbacks\n",
       "      console.info(\"Bokeh: all callbacks have finished\");\n",
       "    }\n",
       "  \n",
       "    function load_libs(js_urls, callback) {\n",
       "      window._bokeh_onload_callbacks.push(callback);\n",
       "      if (window._bokeh_is_loading > 0) {\n",
       "        console.log(\"Bokeh: BokehJS is being loaded, scheduling callback at\", now());\n",
       "        return null;\n",
       "      }\n",
       "      if (js_urls == null || js_urls.length === 0) {\n",
       "        run_callbacks();\n",
       "        return null;\n",
       "      }\n",
       "      console.log(\"Bokeh: BokehJS not loaded, scheduling load and callback at\", now());\n",
       "      window._bokeh_is_loading = js_urls.length;\n",
       "      for (var i = 0; i < js_urls.length; i++) {\n",
       "        var url = js_urls[i];\n",
       "        var s = document.createElement('script');\n",
       "        s.src = url;\n",
       "        s.async = false;\n",
       "        s.onreadystatechange = s.onload = function() {\n",
       "          window._bokeh_is_loading--;\n",
       "          if (window._bokeh_is_loading === 0) {\n",
       "            console.log(\"Bokeh: all BokehJS libraries loaded\");\n",
       "            run_callbacks()\n",
       "          }\n",
       "        };\n",
       "        s.onerror = function() {\n",
       "          console.warn(\"failed to load library \" + url);\n",
       "        };\n",
       "        console.log(\"Bokeh: injecting script tag for BokehJS library: \", url);\n",
       "        document.getElementsByTagName(\"head\")[0].appendChild(s);\n",
       "      }\n",
       "    };var element = document.getElementById(\"aabe9a62-d708-4ad8-ad66-6d5b7f7bcf26\");\n",
       "    if (element == null) {\n",
       "      console.log(\"Bokeh: ERROR: autoload.js configured with elementid 'aabe9a62-d708-4ad8-ad66-6d5b7f7bcf26' but no matching script tag was found. \")\n",
       "      return false;\n",
       "    }\n",
       "  \n",
       "    var js_urls = [];\n",
       "  \n",
       "    var inline_js = [\n",
       "      function(Bokeh) {\n",
       "        Bokeh.$(function() {\n",
       "            var docs_json = {\"72fb049c-342b-4880-ac5d-7931bf9c5b4b\":{\"roots\":{\"references\":[{\"attributes\":{\"callback\":null,\"factors\":[\"0\",\"1\",\"2\",\"3\",\"4\",\"5\",\"6\"]},\"id\":\"41d7bb57-c1b3-4417-863e-2aba670270b9\",\"type\":\"FactorRange\"},{\"attributes\":{\"fill_alpha\":{\"field\":\"fill_alpha\"},\"fill_color\":{\"field\":\"color\"},\"height\":{\"field\":\"height\",\"units\":\"data\"},\"line_color\":{\"field\":\"line_color\"},\"width\":{\"field\":\"width\",\"units\":\"data\"},\"x\":{\"field\":\"x\"},\"y\":{\"field\":\"y\"}},\"id\":\"75d7d04f-12c5-46b1-9bfe-5ebb5ed42d2c\",\"type\":\"Rect\"},{\"attributes\":{\"callback\":null,\"column_names\":[\"y_values\",\"x_values\"],\"data\":{\"chart_index\":[{\"disciplina_ID\":4}],\"disciplina_ID\":[4],\"x_values\":[\"4:0.5\"],\"y_values\":[2.5786666666666673]}},\"id\":\"823ab40b-2008-424d-8a9c-0350110666f5\",\"type\":\"ColumnDataSource\"},{\"attributes\":{\"data_source\":{\"id\":\"422caa93-8e1f-4b38-9f34-b2ab4980b6e2\",\"type\":\"ColumnDataSource\"},\"glyph\":{\"id\":\"2652c3ec-0e34-46b8-b54b-aacba44404bc\",\"type\":\"Rect\"},\"hover_glyph\":null,\"nonselection_glyph\":null,\"selection_glyph\":null},\"id\":\"28a6812b-1550-4e97-8f61-a6d153fa3986\",\"type\":\"GlyphRenderer\"},{\"attributes\":{\"data_source\":{\"id\":\"1e069e37-68ad-4c1d-a71e-3a09c2a9ba19\",\"type\":\"ColumnDataSource\"},\"glyph\":{\"id\":\"bc762203-a97a-457f-9e85-d2233073ddb5\",\"type\":\"Circle\"},\"hover_glyph\":null,\"nonselection_glyph\":null,\"selection_glyph\":null},\"id\":\"0d820a74-181c-474e-bac4-3bc2dfa204c9\",\"type\":\"GlyphRenderer\"},{\"attributes\":{\"fill_alpha\":{\"value\":0.7},\"fill_color\":{\"value\":\"red\"},\"line_color\":{\"value\":\"red\"},\"size\":{\"units\":\"screen\",\"value\":5},\"x\":{\"field\":\"x_values\"},\"y\":{\"field\":\"y_values\"}},\"id\":\"07a7659d-7629-4d26-90f9-90f64a76232a\",\"type\":\"Circle\"},{\"attributes\":{\"data_source\":{\"id\":\"fea52e50-d8fb-4db2-b49c-e56b619e77f9\",\"type\":\"ColumnDataSource\"},\"glyph\":{\"id\":\"dc16330a-f6e6-459d-b444-e16e93c2d6e8\",\"type\":\"Segment\"},\"hover_glyph\":null,\"nonselection_glyph\":null,\"selection_glyph\":null},\"id\":\"2791861a-37b0-44c4-ab13-ee28e4c969be\",\"type\":\"GlyphRenderer\"},{\"attributes\":{\"data_source\":{\"id\":\"5e2cd5e5-5f8d-464e-9775-b2f94f0f649c\",\"type\":\"ColumnDataSource\"},\"glyph\":{\"id\":\"45ff5991-185e-4c03-a704-f7a28f035045\",\"type\":\"Segment\"},\"hover_glyph\":null,\"nonselection_glyph\":null,\"selection_glyph\":null},\"id\":\"269dd5c7-a2fc-4e0a-be91-e82c20deef96\",\"type\":\"GlyphRenderer\"},{\"attributes\":{\"line_width\":{\"value\":2},\"x0\":{\"field\":\"x0s\"},\"x1\":{\"field\":\"x1s\"},\"y0\":{\"field\":\"y0s\"},\"y1\":{\"field\":\"y1s\"}},\"id\":\"dc16330a-f6e6-459d-b444-e16e93c2d6e8\",\"type\":\"Segment\"},{\"attributes\":{\"callback\":null,\"end\":8.512560000000004},\"id\":\"7942dd06-bee3-4bd8-8b93-4877090976bb\",\"type\":\"Range1d\"},{\"attributes\":{\"data_source\":{\"id\":\"5705fbb3-0e2b-4c05-9eaf-d4733e37700c\",\"type\":\"ColumnDataSource\"},\"glyph\":{\"id\":\"94ecabac-6b05-460f-8b9a-458fa7d0a20b\",\"type\":\"Rect\"},\"hover_glyph\":null,\"nonselection_glyph\":null,\"selection_glyph\":null},\"id\":\"f3c3259e-7b6c-4c16-8fcb-657207117d05\",\"type\":\"GlyphRenderer\"},{\"attributes\":{\"data_source\":{\"id\":\"48128249-cbcf-47a8-afc9-84fe27024966\",\"type\":\"ColumnDataSource\"},\"glyph\":{\"id\":\"d098ef3b-4b3c-4438-84ea-e1e8e0f6e552\",\"type\":\"Rect\"},\"hover_glyph\":null,\"nonselection_glyph\":null,\"selection_glyph\":null},\"id\":\"0831ba62-bb44-40db-81de-32b5c120c62c\",\"type\":\"GlyphRenderer\"},{\"attributes\":{\"dimension\":1,\"plot\":{\"id\":\"fd36403e-5a48-414d-8249-b40aa868c62d\",\"subtype\":\"Chart\",\"type\":\"Plot\"},\"ticker\":{\"id\":\"446fc662-aca8-4e4a-8ab9-0e01c82a0204\",\"type\":\"BasicTicker\"}},\"id\":\"6e291a94-1fa3-41c9-b464-0c702e5a2948\",\"type\":\"Grid\"},{\"attributes\":{\"data_source\":{\"id\":\"6d2cf6f3-6252-4ee3-95b0-1361736de826\",\"type\":\"ColumnDataSource\"},\"glyph\":{\"id\":\"3f30ecf5-c1bb-4224-91a4-aad70a544819\",\"type\":\"Rect\"},\"hover_glyph\":null,\"nonselection_glyph\":null,\"selection_glyph\":null},\"id\":\"b9bc6391-2477-4980-85f0-e2362e270a0b\",\"type\":\"GlyphRenderer\"},{\"attributes\":{\"callback\":null,\"column_names\":[\"height\",\"fill_alpha\",\"line_alpha\",\"line_color\",\"color\",\"width\",\"x\",\"label\",\"y\"],\"data\":{\"chart_index\":[{\"disciplina_ID\":5}],\"color\":[\"DimGrey\"],\"disciplina_ID\":[5],\"fill_alpha\":[0.8],\"height\":[1.1375698226504678],\"label\":[{\"disciplina_ID\":5}],\"line_alpha\":[1.0],\"line_color\":[\"black\"],\"width\":[0.8],\"x\":[\"5\"],\"y\":[3.6954624005027226]}},\"id\":\"38604f47-36a4-4acc-82c7-cbb3fb6852d8\",\"type\":\"ColumnDataSource\"},{\"attributes\":{\"callback\":null,\"column_names\":[\"height\",\"fill_alpha\",\"line_alpha\",\"line_color\",\"color\",\"width\",\"x\",\"label\",\"y\"],\"data\":{\"chart_index\":[{\"disciplina_ID\":4}],\"color\":[\"DimGrey\"],\"disciplina_ID\":[4],\"fill_alpha\":[0.8],\"height\":[0.27253012048192904],\"label\":[{\"disciplina_ID\":4}],\"line_alpha\":[1.0],\"line_color\":[\"black\"],\"width\":[0.8],\"x\":[\"4\"],\"y\":[6.103734939759034]}},\"id\":\"2d0b83e3-f847-4218-9360-75012c0ad2ec\",\"type\":\"ColumnDataSource\"},{\"attributes\":{\"data_source\":{\"id\":\"035b400c-6422-413c-afa8-4b6d8946f022\",\"type\":\"ColumnDataSource\"},\"glyph\":{\"id\":\"75d7d04f-12c5-46b1-9bfe-5ebb5ed42d2c\",\"type\":\"Rect\"},\"hover_glyph\":null,\"nonselection_glyph\":null,\"selection_glyph\":null},\"id\":\"0efcaf00-bfb4-421a-82ae-f04961575990\",\"type\":\"GlyphRenderer\"},{\"attributes\":{\"fill_alpha\":{\"field\":\"fill_alpha\"},\"fill_color\":{\"field\":\"color\"},\"height\":{\"field\":\"height\",\"units\":\"data\"},\"line_color\":{\"field\":\"line_color\"},\"width\":{\"field\":\"width\",\"units\":\"data\"},\"x\":{\"field\":\"x\"},\"y\":{\"field\":\"y\"}},\"id\":\"12f57cbb-fc37-43ee-8ae0-b087c2221441\",\"type\":\"Rect\"},{\"attributes\":{\"plot\":{\"id\":\"fd36403e-5a48-414d-8249-b40aa868c62d\",\"subtype\":\"Chart\",\"type\":\"Plot\"}},\"id\":\"45795d60-4848-437d-a133-1c4c66c538f6\",\"type\":\"WheelZoomTool\"},{\"attributes\":{},\"id\":\"92e78336-b8e8-4bf6-b2cc-20a249bbb05d\",\"type\":\"BasicTickFormatter\"},{\"attributes\":{},\"id\":\"da678ef6-24d2-4eda-b613-d618e711252a\",\"type\":\"CategoricalTicker\"},{\"attributes\":{\"fill_alpha\":{\"field\":\"fill_alpha\"},\"fill_color\":{\"field\":\"color\"},\"height\":{\"field\":\"height\",\"units\":\"data\"},\"line_color\":{\"field\":\"line_color\"},\"width\":{\"field\":\"width\",\"units\":\"data\"},\"x\":{\"field\":\"x\"},\"y\":{\"field\":\"y\"}},\"id\":\"03987c9f-9eeb-420f-bef1-cdff1f00cd4c\",\"type\":\"Rect\"},{\"attributes\":{\"callback\":null,\"column_names\":[\"height\",\"fill_alpha\",\"line_alpha\",\"line_color\",\"color\",\"width\",\"x\",\"label\",\"y\"],\"data\":{\"chart_index\":[{\"disciplina_ID\":0}],\"color\":[\"DimGrey\"],\"disciplina_ID\":[0],\"fill_alpha\":[0.8],\"height\":[0.1540182227682232],\"label\":[{\"disciplina_ID\":0}],\"line_alpha\":[1.0],\"line_color\":[\"black\"],\"width\":[0.8],\"x\":[\"0\"],\"y\":[5.765225737100737]}},\"id\":\"6d2cf6f3-6252-4ee3-95b0-1361736de826\",\"type\":\"ColumnDataSource\"},{\"attributes\":{\"below\":[{\"id\":\"2125485a-cb79-440e-b2e3-f0394e8abb88\",\"type\":\"CategoricalAxis\"}],\"left\":[{\"id\":\"7c5a2af5-2473-4176-a164-867949463290\",\"type\":\"LinearAxis\"}],\"renderers\":[{\"id\":\"8d97abc5-eff5-47b0-b0b6-a40c8c4c638b\",\"type\":\"BoxAnnotation\"},{\"id\":\"b85ea630-32c2-4d39-8f1e-c9afd997b33d\",\"type\":\"GlyphRenderer\"},{\"id\":\"b9bc6391-2477-4980-85f0-e2362e270a0b\",\"type\":\"GlyphRenderer\"},{\"id\":\"e918c01f-4e32-45cf-a2b1-090327989b5e\",\"type\":\"GlyphRenderer\"},{\"id\":\"269dd5c7-a2fc-4e0a-be91-e82c20deef96\",\"type\":\"GlyphRenderer\"},{\"id\":\"ad197f44-5f74-4b64-bacb-8117f56ceefc\",\"type\":\"GlyphRenderer\"},{\"id\":\"b0a4db9b-f313-4136-8581-91c53b6ab698\",\"type\":\"GlyphRenderer\"},{\"id\":\"0d820a74-181c-474e-bac4-3bc2dfa204c9\",\"type\":\"GlyphRenderer\"},{\"id\":\"ce0b5ed4-d271-45c2-93f1-e7298b75990d\",\"type\":\"GlyphRenderer\"},{\"id\":\"af90adc2-6e44-41b7-b845-3d2df61a1c16\",\"type\":\"GlyphRenderer\"},{\"id\":\"0efcaf00-bfb4-421a-82ae-f04961575990\",\"type\":\"GlyphRenderer\"},{\"id\":\"b292bd03-71fa-4b18-99cb-4f0dcfd7f12c\",\"type\":\"GlyphRenderer\"},{\"id\":\"f3c3259e-7b6c-4c16-8fcb-657207117d05\",\"type\":\"GlyphRenderer\"},{\"id\":\"28a6812b-1550-4e97-8f61-a6d153fa3986\",\"type\":\"GlyphRenderer\"},{\"id\":\"f673897b-a446-4c56-85aa-5ca786986ee1\",\"type\":\"GlyphRenderer\"},{\"id\":\"2791861a-37b0-44c4-ab13-ee28e4c969be\",\"type\":\"GlyphRenderer\"},{\"id\":\"a9960e07-d57e-4e55-99a2-cb92f4429d68\",\"type\":\"GlyphRenderer\"},{\"id\":\"c525b09b-6c12-4d2c-ae08-ec48f4ab517e\",\"type\":\"GlyphRenderer\"},{\"id\":\"1e00741d-6645-4735-bcdf-1a3c5be6cfc2\",\"type\":\"GlyphRenderer\"},{\"id\":\"3ff40892-38ef-4239-be77-428c9df08591\",\"type\":\"GlyphRenderer\"},{\"id\":\"0831ba62-bb44-40db-81de-32b5c120c62c\",\"type\":\"GlyphRenderer\"},{\"id\":\"9545bcd1-4f3c-452d-a227-47b989317c80\",\"type\":\"GlyphRenderer\"},{\"id\":\"ac95349b-2325-4456-aa9d-84fb66ca0153\",\"type\":\"GlyphRenderer\"},{\"id\":\"7ed6f2ea-06b4-46ab-b3da-6966af52ef2d\",\"type\":\"GlyphRenderer\"},{\"id\":\"8bc4fc5d-b483-41c3-a6c5-3df94d4d7e86\",\"type\":\"GlyphRenderer\"},{\"id\":\"b2d6a7c9-1440-41f9-8f9a-8287c3014978\",\"type\":\"GlyphRenderer\"},{\"id\":\"8ff1e6c4-3d84-4ff7-b1b2-5d187e9fc953\",\"type\":\"Legend\"},{\"id\":\"2125485a-cb79-440e-b2e3-f0394e8abb88\",\"type\":\"CategoricalAxis\"},{\"id\":\"7c5a2af5-2473-4176-a164-867949463290\",\"type\":\"LinearAxis\"},{\"id\":\"6e291a94-1fa3-41c9-b464-0c702e5a2948\",\"type\":\"Grid\"}],\"title\":{\"id\":\"1e15279f-69d6-4bef-a7e9-2877d8ed72d1\",\"type\":\"Title\"},\"tool_events\":{\"id\":\"5732b4fe-c667-4f80-bf2d-2fcb13e64b88\",\"type\":\"ToolEvents\"},\"toolbar\":{\"id\":\"0ede04ec-2c8d-47ad-bad9-05c8f87046eb\",\"type\":\"Toolbar\"},\"x_mapper_type\":\"auto\",\"x_range\":{\"id\":\"41d7bb57-c1b3-4417-863e-2aba670270b9\",\"type\":\"FactorRange\"},\"y_mapper_type\":\"auto\",\"y_range\":{\"id\":\"7942dd06-bee3-4bd8-8b93-4877090976bb\",\"type\":\"Range1d\"}},\"id\":\"fd36403e-5a48-414d-8249-b40aa868c62d\",\"subtype\":\"Chart\",\"type\":\"Plot\"},{\"attributes\":{\"callback\":null,\"column_names\":[\"x0s\",\"y0s\",\"x1s\",\"y1s\"],\"data\":{\"chart_index\":[{\"disciplina_ID\":6},{\"disciplina_ID\":6},{\"disciplina_ID\":6},{\"disciplina_ID\":6}],\"disciplina_ID\":[6,6,6,6],\"x0s\":[\"6:0.5\",\"6:0.65\",\"6:0.5\",\"6:0.65\"],\"x1s\":[\"6:0.5\",\"6:0.35\",\"6:0.5\",\"6:0.35\"],\"y0s\":[3.4861702127659577,3.4861702127659577,5.156547169811321,6.284057971014491],\"y1s\":[3.838,3.4861702127659577,6.284057971014491,6.284057971014491]}},\"id\":\"92881832-d4bc-4c6f-ae5e-0842eb883e04\",\"type\":\"ColumnDataSource\"},{\"attributes\":{\"data_source\":{\"id\":\"aa9d20d7-5d96-4639-957e-14faab22fdfd\",\"type\":\"ColumnDataSource\"},\"glyph\":{\"id\":\"03987c9f-9eeb-420f-bef1-cdff1f00cd4c\",\"type\":\"Rect\"},\"hover_glyph\":null,\"nonselection_glyph\":null,\"selection_glyph\":null},\"id\":\"ac95349b-2325-4456-aa9d-84fb66ca0153\",\"type\":\"GlyphRenderer\"},{\"attributes\":{\"plot\":{\"id\":\"fd36403e-5a48-414d-8249-b40aa868c62d\",\"subtype\":\"Chart\",\"type\":\"Plot\"}},\"id\":\"2f6a87b5-591e-4492-998e-8c99d8b819c7\",\"type\":\"SaveTool\"},{\"attributes\":{\"fill_alpha\":{\"value\":0.7},\"fill_color\":{\"value\":\"red\"},\"line_color\":{\"value\":\"red\"},\"size\":{\"units\":\"screen\",\"value\":5},\"x\":{\"field\":\"x_values\"},\"y\":{\"field\":\"y_values\"}},\"id\":\"5aceb6b7-26e9-47bb-90d8-0d9a295429aa\",\"type\":\"Circle\"},{\"attributes\":{\"data_source\":{\"id\":\"2d0b83e3-f847-4218-9360-75012c0ad2ec\",\"type\":\"ColumnDataSource\"},\"glyph\":{\"id\":\"5b9f144d-8ce7-4f9e-a559-df34bf4b858a\",\"type\":\"Rect\"},\"hover_glyph\":null,\"nonselection_glyph\":null,\"selection_glyph\":null},\"id\":\"7ed6f2ea-06b4-46ab-b3da-6966af52ef2d\",\"type\":\"GlyphRenderer\"},{\"attributes\":{\"callback\":null,\"column_names\":[\"height\",\"fill_alpha\",\"line_alpha\",\"line_color\",\"color\",\"width\",\"x\",\"label\",\"y\"],\"data\":{\"chart_index\":[{\"disciplina_ID\":5}],\"color\":[\"DimGrey\"],\"disciplina_ID\":[5],\"fill_alpha\":[0.8],\"height\":[0.05427985285795156],\"label\":[{\"disciplina_ID\":5}],\"line_alpha\":[1.0],\"line_color\":[\"black\"],\"width\":[0.8],\"x\":[\"5\"],\"y\":[4.291387238256933]}},\"id\":\"3bb7182f-be8e-4f43-9982-8c0ccc5e8a2e\",\"type\":\"ColumnDataSource\"},{\"attributes\":{\"line_width\":{\"value\":2},\"x0\":{\"field\":\"x0s\"},\"x1\":{\"field\":\"x1s\"},\"y0\":{\"field\":\"y0s\"},\"y1\":{\"field\":\"y1s\"}},\"id\":\"f0aa6f10-2c8d-422b-9202-61124539fcef\",\"type\":\"Segment\"},{\"attributes\":{\"data_source\":{\"id\":\"e6ba80e8-8e59-4a9b-ad2a-dc610791a67e\",\"type\":\"ColumnDataSource\"},\"glyph\":{\"id\":\"5aceb6b7-26e9-47bb-90d8-0d9a295429aa\",\"type\":\"Circle\"},\"hover_glyph\":null,\"nonselection_glyph\":null,\"selection_glyph\":null},\"id\":\"e918c01f-4e32-45cf-a2b1-090327989b5e\",\"type\":\"GlyphRenderer\"},{\"attributes\":{\"callback\":null,\"column_names\":[\"y_values\",\"x_values\"],\"data\":{\"chart_index\":[{\"disciplina_ID\":3}],\"disciplina_ID\":[3],\"x_values\":[\"3:0.5\"],\"y_values\":[6.0129032258064505]}},\"id\":\"7968bccf-b8a6-42cd-a46f-be8f6046e2e7\",\"type\":\"ColumnDataSource\"},{\"attributes\":{\"data_source\":{\"id\":\"77fc537d-f2b1-41ee-9574-8dc1a13b4cb1\",\"type\":\"ColumnDataSource\"},\"glyph\":{\"id\":\"14de16a9-505a-44c6-81fe-4ea326e03d9d\",\"type\":\"Segment\"},\"hover_glyph\":null,\"nonselection_glyph\":null,\"selection_glyph\":null},\"id\":\"b2d6a7c9-1440-41f9-8f9a-8287c3014978\",\"type\":\"GlyphRenderer\"},{\"attributes\":{},\"id\":\"5732b4fe-c667-4f80-bf2d-2fcb13e64b88\",\"type\":\"ToolEvents\"},{\"attributes\":{\"fill_alpha\":{\"value\":0.7},\"fill_color\":{\"value\":\"red\"},\"line_color\":{\"value\":\"red\"},\"size\":{\"units\":\"screen\",\"value\":5},\"x\":{\"field\":\"x_values\"},\"y\":{\"field\":\"y_values\"}},\"id\":\"bc762203-a97a-457f-9e85-d2233073ddb5\",\"type\":\"Circle\"},{\"attributes\":{\"fill_alpha\":{\"field\":\"fill_alpha\"},\"fill_color\":{\"field\":\"color\"},\"height\":{\"field\":\"height\",\"units\":\"data\"},\"line_color\":{\"field\":\"line_color\"},\"width\":{\"field\":\"width\",\"units\":\"data\"},\"x\":{\"field\":\"x\"},\"y\":{\"field\":\"y\"}},\"id\":\"28260170-31a6-44c0-b146-5f2f21305637\",\"type\":\"Rect\"},{\"attributes\":{\"data_source\":{\"id\":\"38604f47-36a4-4acc-82c7-cbb3fb6852d8\",\"type\":\"ColumnDataSource\"},\"glyph\":{\"id\":\"61ce959a-d1e2-4f83-bf8a-4d64a7398230\",\"type\":\"Rect\"},\"hover_glyph\":null,\"nonselection_glyph\":null,\"selection_glyph\":null},\"id\":\"a9960e07-d57e-4e55-99a2-cb92f4429d68\",\"type\":\"GlyphRenderer\"},{\"attributes\":{\"callback\":null,\"column_names\":[\"height\",\"fill_alpha\",\"line_alpha\",\"line_color\",\"color\",\"width\",\"x\",\"label\",\"y\"],\"data\":{\"chart_index\":[{\"disciplina_ID\":6}],\"color\":[\"DimGrey\"],\"disciplina_ID\":[6],\"fill_alpha\":[0.8],\"height\":[0.8585471698113212],\"label\":[{\"disciplina_ID\":6}],\"line_alpha\":[1.0],\"line_color\":[\"black\"],\"width\":[0.8],\"x\":[\"6\"],\"y\":[4.72727358490566]}},\"id\":\"48128249-cbcf-47a8-afc9-84fe27024966\",\"type\":\"ColumnDataSource\"},{\"attributes\":{\"plot\":{\"id\":\"fd36403e-5a48-414d-8249-b40aa868c62d\",\"subtype\":\"Chart\",\"type\":\"Plot\"}},\"id\":\"c59ff048-fe5e-457c-b775-45ab4c8e4cd2\",\"type\":\"HelpTool\"},{\"attributes\":{\"callback\":null,\"column_names\":[\"height\",\"fill_alpha\",\"line_alpha\",\"line_color\",\"color\",\"width\",\"x\",\"label\",\"y\"],\"data\":{\"chart_index\":[{\"disciplina_ID\":1}],\"color\":[\"DimGrey\"],\"disciplina_ID\":[1],\"fill_alpha\":[0.8],\"height\":[0.09682474226803972],\"label\":[{\"disciplina_ID\":1}],\"line_alpha\":[1.0],\"line_color\":[\"black\"],\"width\":[0.8],\"x\":[\"1\"],\"y\":[7.087587628865981]}},\"id\":\"d93b4336-00ae-4cd0-808b-c52e0f3fa487\",\"type\":\"ColumnDataSource\"},{\"attributes\":{\"active_drag\":\"auto\",\"active_scroll\":\"auto\",\"active_tap\":\"auto\",\"tools\":[{\"id\":\"c156e37e-b136-4c6f-a5b9-0a9a08c7f315\",\"type\":\"PanTool\"},{\"id\":\"45795d60-4848-437d-a133-1c4c66c538f6\",\"type\":\"WheelZoomTool\"},{\"id\":\"f846512c-0652-46f3-ba97-638bf458cd5c\",\"type\":\"BoxZoomTool\"},{\"id\":\"2f6a87b5-591e-4492-998e-8c99d8b819c7\",\"type\":\"SaveTool\"},{\"id\":\"5cfb6fa0-d98f-402c-a785-02201a1d09a2\",\"type\":\"ResetTool\"},{\"id\":\"c59ff048-fe5e-457c-b775-45ab4c8e4cd2\",\"type\":\"HelpTool\"}]},\"id\":\"0ede04ec-2c8d-47ad-bad9-05c8f87046eb\",\"type\":\"Toolbar\"},{\"attributes\":{\"fill_alpha\":{\"field\":\"fill_alpha\"},\"fill_color\":{\"field\":\"color\"},\"height\":{\"field\":\"height\",\"units\":\"data\"},\"line_color\":{\"field\":\"line_color\"},\"width\":{\"field\":\"width\",\"units\":\"data\"},\"x\":{\"field\":\"x\"},\"y\":{\"field\":\"y\"}},\"id\":\"5f36bc3a-6441-45c2-8428-eced8b5f28fc\",\"type\":\"Rect\"},{\"attributes\":{\"callback\":null,\"column_names\":[\"x0s\",\"y0s\",\"x1s\",\"y1s\"],\"data\":{\"chart_index\":[{\"disciplina_ID\":2},{\"disciplina_ID\":2},{\"disciplina_ID\":2},{\"disciplina_ID\":2}],\"disciplina_ID\":[2,2,2,2],\"x0s\":[\"2:0.5\",\"2:0.65\",\"2:0.5\",\"2:0.65\"],\"x1s\":[\"2:0.5\",\"2:0.35\",\"2:0.5\",\"2:0.35\"],\"y0s\":[3.814136125654452,3.814136125654452,6.718608772707137,6.957333333333333],\"y1s\":[4.718229166666667,3.814136125654452,6.957333333333333,6.957333333333333]}},\"id\":\"02788722-cf63-434e-a591-e656fbb9a564\",\"type\":\"ColumnDataSource\"},{\"attributes\":{\"fill_alpha\":{\"field\":\"fill_alpha\"},\"fill_color\":{\"field\":\"color\"},\"height\":{\"field\":\"height\",\"units\":\"data\"},\"line_color\":{\"field\":\"line_color\"},\"width\":{\"field\":\"width\",\"units\":\"data\"},\"x\":{\"field\":\"x\"},\"y\":{\"field\":\"y\"}},\"id\":\"94ecabac-6b05-460f-8b9a-458fa7d0a20b\",\"type\":\"Rect\"},{\"attributes\":{\"callback\":null,\"column_names\":[\"height\",\"fill_alpha\",\"line_alpha\",\"line_color\",\"color\",\"width\",\"x\",\"label\",\"y\"],\"data\":{\"chart_index\":[{\"disciplina_ID\":3}],\"color\":[\"DimGrey\"],\"disciplina_ID\":[3],\"fill_alpha\":[0.8],\"height\":[0.44422979797979734],\"label\":[{\"disciplina_ID\":3}],\"line_alpha\":[1.0],\"line_color\":[\"black\"],\"width\":[0.8],\"x\":[\"3\"],\"y\":[3.583642676767677]}},\"id\":\"5705fbb3-0e2b-4c05-9eaf-d4733e37700c\",\"type\":\"ColumnDataSource\"},{\"attributes\":{\"callback\":null,\"column_names\":[\"x0s\",\"y0s\",\"x1s\",\"y1s\"],\"data\":{\"chart_index\":[{\"disciplina_ID\":0},{\"disciplina_ID\":0},{\"disciplina_ID\":0},{\"disciplina_ID\":0}],\"disciplina_ID\":[0,0,0,0],\"x0s\":[\"0:0.5\",\"0:0.65\",\"0:0.5\",\"0:0.65\"],\"x1s\":[\"0:0.5\",\"0:0.35\",\"0:0.5\",\"0:0.35\"],\"y0s\":[5.039984940536411,5.039984940536411,5.842234848484849,6.126315789473684],\"y1s\":[5.521334885305474,5.039984940536411,6.126315789473684,6.126315789473684]}},\"id\":\"5e2cd5e5-5f8d-464e-9775-b2f94f0f649c\",\"type\":\"ColumnDataSource\"},{\"attributes\":{\"data_source\":{\"id\":\"7968bccf-b8a6-42cd-a46f-be8f6046e2e7\",\"type\":\"ColumnDataSource\"},\"glyph\":{\"id\":\"07a7659d-7629-4d26-90f9-90f64a76232a\",\"type\":\"Circle\"},\"hover_glyph\":null,\"nonselection_glyph\":null,\"selection_glyph\":null},\"id\":\"f673897b-a446-4c56-85aa-5ca786986ee1\",\"type\":\"GlyphRenderer\"},{\"attributes\":{\"fill_alpha\":{\"field\":\"fill_alpha\"},\"fill_color\":{\"field\":\"color\"},\"height\":{\"field\":\"height\",\"units\":\"data\"},\"line_color\":{\"field\":\"line_color\"},\"width\":{\"field\":\"width\",\"units\":\"data\"},\"x\":{\"field\":\"x\"},\"y\":{\"field\":\"y\"}},\"id\":\"401b79b1-c79b-4581-8f90-bef9be12b418\",\"type\":\"Rect\"},{\"attributes\":{\"callback\":null,\"column_names\":[\"y_values\",\"x_values\"],\"data\":{\"chart_index\":[{\"disciplina_ID\":0}],\"disciplina_ID\":[0],\"x_values\":[\"0:0.5\"],\"y_values\":[4.13939393939394]}},\"id\":\"e6ba80e8-8e59-4a9b-ad2a-dc610791a67e\",\"type\":\"ColumnDataSource\"},{\"attributes\":{\"line_width\":{\"value\":2},\"x0\":{\"field\":\"x0s\"},\"x1\":{\"field\":\"x1s\"},\"y0\":{\"field\":\"y0s\"},\"y1\":{\"field\":\"y1s\"}},\"id\":\"14de16a9-505a-44c6-81fe-4ea326e03d9d\",\"type\":\"Segment\"},{\"attributes\":{},\"id\":\"f002c289-ca95-4a55-b672-5f20ae69b72b\",\"type\":\"CategoricalTickFormatter\"},{\"attributes\":{\"fill_alpha\":{\"value\":0.7},\"fill_color\":{\"value\":\"red\"},\"line_color\":{\"value\":\"red\"},\"size\":{\"units\":\"screen\",\"value\":5},\"x\":{\"field\":\"x_values\"},\"y\":{\"field\":\"y_values\"}},\"id\":\"82579f90-d1ab-4523-aed9-3b4db6cf40de\",\"type\":\"Circle\"},{\"attributes\":{\"line_width\":{\"value\":2},\"x0\":{\"field\":\"x0s\"},\"x1\":{\"field\":\"x1s\"},\"y0\":{\"field\":\"y0s\"},\"y1\":{\"field\":\"y1s\"}},\"id\":\"45ff5991-185e-4c03-a704-f7a28f035045\",\"type\":\"Segment\"},{\"attributes\":{\"overlay\":{\"id\":\"8d97abc5-eff5-47b0-b0b6-a40c8c4c638b\",\"type\":\"BoxAnnotation\"},\"plot\":{\"id\":\"fd36403e-5a48-414d-8249-b40aa868c62d\",\"subtype\":\"Chart\",\"type\":\"Plot\"}},\"id\":\"f846512c-0652-46f3-ba97-638bf458cd5c\",\"type\":\"BoxZoomTool\"},{\"attributes\":{\"callback\":null,\"column_names\":[\"x0s\",\"y0s\",\"x1s\",\"y1s\"],\"data\":{\"chart_index\":[{\"disciplina_ID\":5},{\"disciplina_ID\":5},{\"disciplina_ID\":5},{\"disciplina_ID\":5}],\"disciplina_ID\":[5,5,5,5],\"x0s\":[\"5:0.5\",\"5:0.65\",\"5:0.5\",\"5:0.65\"],\"x1s\":[\"5:0.5\",\"5:0.35\",\"5:0.5\",\"5:0.35\"],\"y0s\":[2.4357723577235766,2.4357723577235766,4.318527164685908,4.34765100671141],\"y1s\":[3.1266774891774887,2.4357723577235766,4.34765100671141,4.34765100671141]}},\"id\":\"12843fcf-f3c4-4437-9f8a-b77837e20256\",\"type\":\"ColumnDataSource\"},{\"attributes\":{\"callback\":null,\"column_names\":[\"height\",\"fill_alpha\",\"line_alpha\",\"line_color\",\"color\",\"width\",\"x\",\"label\",\"y\"],\"data\":{\"chart_index\":[{\"disciplina_ID\":3}],\"color\":[\"DimGrey\"],\"disciplina_ID\":[3],\"fill_alpha\":[0.8],\"height\":[0.4924293718434338],\"label\":[{\"disciplina_ID\":3}],\"line_alpha\":[1.0],\"line_color\":[\"black\"],\"width\":[0.8],\"x\":[\"3\"],\"y\":[4.051972261679293]}},\"id\":\"422caa93-8e1f-4b38-9f34-b2ab4980b6e2\",\"type\":\"ColumnDataSource\"},{\"attributes\":{\"fill_alpha\":{\"field\":\"fill_alpha\"},\"fill_color\":{\"field\":\"color\"},\"height\":{\"field\":\"height\",\"units\":\"data\"},\"line_color\":{\"field\":\"line_color\"},\"width\":{\"field\":\"width\",\"units\":\"data\"},\"x\":{\"field\":\"x\"},\"y\":{\"field\":\"y\"}},\"id\":\"835bcc6f-cde0-439e-a42a-68e5d98f5aa4\",\"type\":\"Rect\"},{\"attributes\":{\"fill_alpha\":{\"field\":\"fill_alpha\"},\"fill_color\":{\"field\":\"color\"},\"height\":{\"field\":\"height\",\"units\":\"data\"},\"line_color\":{\"field\":\"line_color\"},\"width\":{\"field\":\"width\",\"units\":\"data\"},\"x\":{\"field\":\"x\"},\"y\":{\"field\":\"y\"}},\"id\":\"5b9f144d-8ce7-4f9e-a559-df34bf4b858a\",\"type\":\"Rect\"},{\"attributes\":{\"data_source\":{\"id\":\"12843fcf-f3c4-4437-9f8a-b77837e20256\",\"type\":\"ColumnDataSource\"},\"glyph\":{\"id\":\"9a222825-8289-4afe-ac73-a8eee416b372\",\"type\":\"Segment\"},\"hover_glyph\":null,\"nonselection_glyph\":null,\"selection_glyph\":null},\"id\":\"1e00741d-6645-4735-bcdf-1a3c5be6cfc2\",\"type\":\"GlyphRenderer\"},{\"attributes\":{\"fill_alpha\":{\"field\":\"fill_alpha\"},\"fill_color\":{\"field\":\"color\"},\"height\":{\"field\":\"height\",\"units\":\"data\"},\"line_color\":{\"field\":\"line_color\"},\"width\":{\"field\":\"width\",\"units\":\"data\"},\"x\":{\"field\":\"x\"},\"y\":{\"field\":\"y\"}},\"id\":\"2652c3ec-0e34-46b8-b54b-aacba44404bc\",\"type\":\"Rect\"},{\"attributes\":{\"line_width\":{\"value\":2},\"x0\":{\"field\":\"x0s\"},\"x1\":{\"field\":\"x1s\"},\"y0\":{\"field\":\"y0s\"},\"y1\":{\"field\":\"y1s\"}},\"id\":\"e3d59f9b-27d9-4572-a261-44b9b6dc3218\",\"type\":\"Segment\"},{\"attributes\":{\"plot\":{\"id\":\"fd36403e-5a48-414d-8249-b40aa868c62d\",\"subtype\":\"Chart\",\"type\":\"Plot\"}},\"id\":\"5cfb6fa0-d98f-402c-a785-02201a1d09a2\",\"type\":\"ResetTool\"},{\"attributes\":{\"data_source\":{\"id\":\"7e2d9a18-356f-4299-a8f8-f4b9e97fe1bb\",\"type\":\"ColumnDataSource\"},\"glyph\":{\"id\":\"5f36bc3a-6441-45c2-8428-eced8b5f28fc\",\"type\":\"Rect\"},\"hover_glyph\":null,\"nonselection_glyph\":null,\"selection_glyph\":null},\"id\":\"af90adc2-6e44-41b7-b845-3d2df61a1c16\",\"type\":\"GlyphRenderer\"},{\"attributes\":{\"data_source\":{\"id\":\"7d680c87-808f-4b97-8903-4e17d0f9d8fb\",\"type\":\"ColumnDataSource\"},\"glyph\":{\"id\":\"401b79b1-c79b-4581-8f90-bef9be12b418\",\"type\":\"Rect\"},\"hover_glyph\":null,\"nonselection_glyph\":null,\"selection_glyph\":null},\"id\":\"3ff40892-38ef-4239-be77-428c9df08591\",\"type\":\"GlyphRenderer\"},{\"attributes\":{\"data_source\":{\"id\":\"58337321-20a1-47db-8ab8-b97406d5cfee\",\"type\":\"ColumnDataSource\"},\"glyph\":{\"id\":\"f0aa6f10-2c8d-422b-9202-61124539fcef\",\"type\":\"Segment\"},\"hover_glyph\":null,\"nonselection_glyph\":null,\"selection_glyph\":null},\"id\":\"ce0b5ed4-d271-45c2-93f1-e7298b75990d\",\"type\":\"GlyphRenderer\"},{\"attributes\":{\"fill_alpha\":{\"field\":\"fill_alpha\"},\"fill_color\":{\"field\":\"color\"},\"height\":{\"field\":\"height\",\"units\":\"data\"},\"line_color\":{\"field\":\"line_color\"},\"width\":{\"field\":\"width\",\"units\":\"data\"},\"x\":{\"field\":\"x\"},\"y\":{\"field\":\"y\"}},\"id\":\"89f52774-8560-4254-a8c0-e5d76ba8c771\",\"type\":\"Rect\"},{\"attributes\":{\"axis_label\":\"M\\u00e9dia por per\\u00edodo)\",\"formatter\":{\"id\":\"92e78336-b8e8-4bf6-b2cc-20a249bbb05d\",\"type\":\"BasicTickFormatter\"},\"plot\":{\"id\":\"fd36403e-5a48-414d-8249-b40aa868c62d\",\"subtype\":\"Chart\",\"type\":\"Plot\"},\"ticker\":{\"id\":\"446fc662-aca8-4e4a-8ab9-0e01c82a0204\",\"type\":\"BasicTicker\"}},\"id\":\"7c5a2af5-2473-4176-a164-867949463290\",\"type\":\"LinearAxis\"},{\"attributes\":{\"plot\":{\"id\":\"fd36403e-5a48-414d-8249-b40aa868c62d\",\"subtype\":\"Chart\",\"type\":\"Plot\"}},\"id\":\"c156e37e-b136-4c6f-a5b9-0a9a08c7f315\",\"type\":\"PanTool\"},{\"attributes\":{\"data_source\":{\"id\":\"3bb7182f-be8e-4f43-9982-8c0ccc5e8a2e\",\"type\":\"ColumnDataSource\"},\"glyph\":{\"id\":\"835bcc6f-cde0-439e-a42a-68e5d98f5aa4\",\"type\":\"Rect\"},\"hover_glyph\":null,\"nonselection_glyph\":null,\"selection_glyph\":null},\"id\":\"c525b09b-6c12-4d2c-ae08-ec48f4ab517e\",\"type\":\"GlyphRenderer\"},{\"attributes\":{\"fill_alpha\":{\"field\":\"fill_alpha\"},\"fill_color\":{\"field\":\"color\"},\"height\":{\"field\":\"height\",\"units\":\"data\"},\"line_color\":{\"field\":\"line_color\"},\"width\":{\"field\":\"width\",\"units\":\"data\"},\"x\":{\"field\":\"x\"},\"y\":{\"field\":\"y\"}},\"id\":\"61ce959a-d1e2-4f83-bf8a-4d64a7398230\",\"type\":\"Rect\"},{\"attributes\":{\"callback\":null,\"column_names\":[\"height\",\"fill_alpha\",\"line_alpha\",\"line_color\",\"color\",\"width\",\"x\",\"label\",\"y\"],\"data\":{\"chart_index\":[{\"disciplina_ID\":1}],\"color\":[\"DimGrey\"],\"disciplina_ID\":[1],\"fill_alpha\":[0.8],\"height\":[0.24494737167498748],\"label\":[{\"disciplina_ID\":1}],\"line_alpha\":[1.0],\"line_color\":[\"black\"],\"width\":[0.8],\"x\":[\"1\"],\"y\":[6.916701571894467]}},\"id\":\"03f56af1-e2ba-4fdb-aaf4-7eb0b9482209\",\"type\":\"ColumnDataSource\"},{\"attributes\":{\"line_width\":{\"value\":2},\"x0\":{\"field\":\"x0s\"},\"x1\":{\"field\":\"x1s\"},\"y0\":{\"field\":\"y0s\"},\"y1\":{\"field\":\"y1s\"}},\"id\":\"9a222825-8289-4afe-ac73-a8eee416b372\",\"type\":\"Segment\"},{\"attributes\":{\"data_source\":{\"id\":\"823ab40b-2008-424d-8a9c-0350110666f5\",\"type\":\"ColumnDataSource\"},\"glyph\":{\"id\":\"82579f90-d1ab-4523-aed9-3b4db6cf40de\",\"type\":\"Circle\"},\"hover_glyph\":null,\"nonselection_glyph\":null,\"selection_glyph\":null},\"id\":\"8bc4fc5d-b483-41c3-a6c5-3df94d4d7e86\",\"type\":\"GlyphRenderer\"},{\"attributes\":{\"callback\":null,\"column_names\":[\"height\",\"fill_alpha\",\"line_alpha\",\"line_color\",\"color\",\"width\",\"x\",\"label\",\"y\"],\"data\":{\"chart_index\":[{\"disciplina_ID\":6}],\"color\":[\"DimGrey\"],\"disciplina_ID\":[6],\"fill_alpha\":[0.8],\"height\":[0.45999999999999996],\"label\":[{\"disciplina_ID\":6}],\"line_alpha\":[1.0],\"line_color\":[\"black\"],\"width\":[0.8],\"x\":[\"6\"],\"y\":[4.068]}},\"id\":\"7d680c87-808f-4b97-8903-4e17d0f9d8fb\",\"type\":\"ColumnDataSource\"},{\"attributes\":{\"callback\":null,\"column_names\":[\"height\",\"fill_alpha\",\"line_alpha\",\"line_color\",\"color\",\"width\",\"x\",\"label\",\"y\"],\"data\":{\"chart_index\":[{\"disciplina_ID\":0}],\"color\":[\"DimGrey\"],\"disciplina_ID\":[0],\"fill_alpha\":[0.8],\"height\":[0.166881740411152],\"label\":[{\"disciplina_ID\":0}],\"line_alpha\":[1.0],\"line_color\":[\"black\"],\"width\":[0.8],\"x\":[\"0\"],\"y\":[5.604775755511049]}},\"id\":\"40a176ab-d72c-4a41-b910-30cc9e8a29fd\",\"type\":\"ColumnDataSource\"},{\"attributes\":{\"data_source\":{\"id\":\"40a176ab-d72c-4a41-b910-30cc9e8a29fd\",\"type\":\"ColumnDataSource\"},\"glyph\":{\"id\":\"89f52774-8560-4254-a8c0-e5d76ba8c771\",\"type\":\"Rect\"},\"hover_glyph\":null,\"nonselection_glyph\":null,\"selection_glyph\":null},\"id\":\"b85ea630-32c2-4d39-8f1e-c9afd997b33d\",\"type\":\"GlyphRenderer\"},{\"attributes\":{},\"id\":\"446fc662-aca8-4e4a-8ab9-0e01c82a0204\",\"type\":\"BasicTicker\"},{\"attributes\":{\"data_source\":{\"id\":\"02788722-cf63-434e-a591-e656fbb9a564\",\"type\":\"ColumnDataSource\"},\"glyph\":{\"id\":\"e3d59f9b-27d9-4572-a261-44b9b6dc3218\",\"type\":\"Segment\"},\"hover_glyph\":null,\"nonselection_glyph\":null,\"selection_glyph\":null},\"id\":\"b292bd03-71fa-4b18-99cb-4f0dcfd7f12c\",\"type\":\"GlyphRenderer\"},{\"attributes\":{\"callback\":null,\"column_names\":[\"x0s\",\"y0s\",\"x1s\",\"y1s\"],\"data\":{\"chart_index\":[{\"disciplina_ID\":1},{\"disciplina_ID\":1},{\"disciplina_ID\":1},{\"disciplina_ID\":1}],\"disciplina_ID\":[1,1,1,1],\"x0s\":[\"1:0.5\",\"1:0.65\",\"1:0.5\",\"1:0.65\"],\"x1s\":[\"1:0.5\",\"1:0.35\",\"1:0.5\",\"1:0.35\"],\"y0s\":[6.281569715142432,6.281569715142432,7.136,7.6486581709145405],\"y1s\":[6.794227886056973,6.281569715142432,7.6486581709145405,7.6486581709145405]}},\"id\":\"58337321-20a1-47db-8ab8-b97406d5cfee\",\"type\":\"ColumnDataSource\"},{\"attributes\":{\"axis_label\":\"Disciplina_Id\",\"formatter\":{\"id\":\"f002c289-ca95-4a55-b672-5f20ae69b72b\",\"type\":\"CategoricalTickFormatter\"},\"major_label_orientation\":0.7853981633974483,\"plot\":{\"id\":\"fd36403e-5a48-414d-8249-b40aa868c62d\",\"subtype\":\"Chart\",\"type\":\"Plot\"},\"ticker\":{\"id\":\"da678ef6-24d2-4eda-b613-d618e711252a\",\"type\":\"CategoricalTicker\"}},\"id\":\"2125485a-cb79-440e-b2e3-f0394e8abb88\",\"type\":\"CategoricalAxis\"},{\"attributes\":{\"callback\":null,\"column_names\":[\"height\",\"fill_alpha\",\"line_alpha\",\"line_color\",\"color\",\"width\",\"x\",\"label\",\"y\"],\"data\":{\"chart_index\":[{\"disciplina_ID\":2}],\"color\":[\"DimGrey\"],\"disciplina_ID\":[2],\"fill_alpha\":[0.8],\"height\":[0.2676524885541314],\"label\":[{\"disciplina_ID\":2}],\"line_alpha\":[1.0],\"line_color\":[\"black\"],\"width\":[0.8],\"x\":[\"2\"],\"y\":[6.584782528430072]}},\"id\":\"035b400c-6422-413c-afa8-4b6d8946f022\",\"type\":\"ColumnDataSource\"},{\"attributes\":{\"callback\":null,\"column_names\":[\"x0s\",\"y0s\",\"x1s\",\"y1s\"],\"data\":{\"chart_index\":[{\"disciplina_ID\":4},{\"disciplina_ID\":4},{\"disciplina_ID\":4},{\"disciplina_ID\":4}],\"disciplina_ID\":[4,4,4,4],\"x0s\":[\"4:0.5\",\"4:0.65\",\"4:0.5\",\"4:0.65\"],\"x1s\":[\"4:0.5\",\"4:0.35\",\"4:0.5\",\"4:0.35\"],\"y0s\":[4.901560693641613,4.901560693641613,6.239999999999999,6.532380952380956],\"y1s\":[5.704624277456645,4.901560693641613,6.532380952380956,6.532380952380956]}},\"id\":\"77fc537d-f2b1-41ee-9574-8dc1a13b4cb1\",\"type\":\"ColumnDataSource\"},{\"attributes\":{\"bottom_units\":\"screen\",\"fill_alpha\":{\"value\":0.5},\"fill_color\":{\"value\":\"lightgrey\"},\"left_units\":\"screen\",\"level\":\"overlay\",\"line_alpha\":{\"value\":1.0},\"line_color\":{\"value\":\"black\"},\"line_dash\":[4,4],\"line_width\":{\"value\":2},\"plot\":null,\"render_mode\":\"css\",\"right_units\":\"screen\",\"top_units\":\"screen\"},\"id\":\"8d97abc5-eff5-47b0-b0b6-a40c8c4c638b\",\"type\":\"BoxAnnotation\"},{\"attributes\":{\"callback\":null,\"column_names\":[\"height\",\"fill_alpha\",\"line_alpha\",\"line_color\",\"color\",\"width\",\"x\",\"label\",\"y\"],\"data\":{\"chart_index\":[{\"disciplina_ID\":4}],\"color\":[\"DimGrey\"],\"disciplina_ID\":[4],\"fill_alpha\":[0.8],\"height\":[0.26284560206142515],\"label\":[{\"disciplina_ID\":4}],\"line_alpha\":[1.0],\"line_color\":[\"black\"],\"width\":[0.8],\"x\":[\"4\"],\"y\":[5.836047078487358]}},\"id\":\"aa9d20d7-5d96-4639-957e-14faab22fdfd\",\"type\":\"ColumnDataSource\"},{\"attributes\":{\"callback\":null,\"column_names\":[\"x0s\",\"y0s\",\"x1s\",\"y1s\"],\"data\":{\"chart_index\":[{\"disciplina_ID\":3},{\"disciplina_ID\":3},{\"disciplina_ID\":3},{\"disciplina_ID\":3}],\"disciplina_ID\":[3,3,3,3],\"x0s\":[\"3:0.5\",\"3:0.65\",\"3:0.5\",\"3:0.65\"],\"x1s\":[\"3:0.5\",\"3:0.35\",\"3:0.5\",\"3:0.35\"],\"y0s\":[2.284210526315789,2.284210526315789,4.2981869476010095,5.703175702335856],\"y1s\":[3.3615277777777783,2.284210526315789,5.703175702335856,5.703175702335856]}},\"id\":\"fea52e50-d8fb-4db2-b49c-e56b619e77f9\",\"type\":\"ColumnDataSource\"},{\"attributes\":{\"fill_alpha\":{\"field\":\"fill_alpha\"},\"fill_color\":{\"field\":\"color\"},\"height\":{\"field\":\"height\",\"units\":\"data\"},\"line_color\":{\"field\":\"line_color\"},\"width\":{\"field\":\"width\",\"units\":\"data\"},\"x\":{\"field\":\"x\"},\"y\":{\"field\":\"y\"}},\"id\":\"3f30ecf5-c1bb-4224-91a4-aad70a544819\",\"type\":\"Rect\"},{\"attributes\":{\"data_source\":{\"id\":\"92881832-d4bc-4c6f-ae5e-0842eb883e04\",\"type\":\"ColumnDataSource\"},\"glyph\":{\"id\":\"2f740c07-f22e-494f-a634-34f920f2b168\",\"type\":\"Segment\"},\"hover_glyph\":null,\"nonselection_glyph\":null,\"selection_glyph\":null},\"id\":\"9545bcd1-4f3c-452d-a227-47b989317c80\",\"type\":\"GlyphRenderer\"},{\"attributes\":{\"fill_alpha\":{\"field\":\"fill_alpha\"},\"fill_color\":{\"field\":\"color\"},\"height\":{\"field\":\"height\",\"units\":\"data\"},\"line_color\":{\"field\":\"line_color\"},\"width\":{\"field\":\"width\",\"units\":\"data\"},\"x\":{\"field\":\"x\"},\"y\":{\"field\":\"y\"}},\"id\":\"d098ef3b-4b3c-4438-84ea-e1e8e0f6e552\",\"type\":\"Rect\"},{\"attributes\":{\"data_source\":{\"id\":\"d93b4336-00ae-4cd0-808b-c52e0f3fa487\",\"type\":\"ColumnDataSource\"},\"glyph\":{\"id\":\"28260170-31a6-44c0-b146-5f2f21305637\",\"type\":\"Rect\"},\"hover_glyph\":null,\"nonselection_glyph\":null,\"selection_glyph\":null},\"id\":\"b0a4db9b-f313-4136-8581-91c53b6ab698\",\"type\":\"GlyphRenderer\"},{\"attributes\":{\"callback\":null,\"column_names\":[\"height\",\"fill_alpha\",\"line_alpha\",\"line_color\",\"color\",\"width\",\"x\",\"label\",\"y\"],\"data\":{\"chart_index\":[{\"disciplina_ID\":2}],\"color\":[\"DimGrey\"],\"disciplina_ID\":[2],\"fill_alpha\":[0.8],\"height\":[1.7327271174863386],\"label\":[{\"disciplina_ID\":2}],\"line_alpha\":[1.0],\"line_color\":[\"black\"],\"width\":[0.8],\"x\":[\"2\"],\"y\":[5.584592725409836]}},\"id\":\"7e2d9a18-356f-4299-a8f8-f4b9e97fe1bb\",\"type\":\"ColumnDataSource\"},{\"attributes\":{\"callback\":null,\"column_names\":[\"y_values\",\"x_values\"],\"data\":{\"chart_index\":[{\"disciplina_ID\":1},{\"disciplina_ID\":1}],\"disciplina_ID\":[1,1],\"x_values\":[\"1:0.5\",\"1:0.5\"],\"y_values\":[8.107200000000004,0.0]}},\"id\":\"1e069e37-68ad-4c1d-a71e-3a09c2a9ba19\",\"type\":\"ColumnDataSource\"},{\"attributes\":{\"legends\":[[\"0\",[{\"id\":\"b85ea630-32c2-4d39-8f1e-c9afd997b33d\",\"type\":\"GlyphRenderer\"},{\"id\":\"b9bc6391-2477-4980-85f0-e2362e270a0b\",\"type\":\"GlyphRenderer\"},{\"id\":\"e918c01f-4e32-45cf-a2b1-090327989b5e\",\"type\":\"GlyphRenderer\"},{\"id\":\"269dd5c7-a2fc-4e0a-be91-e82c20deef96\",\"type\":\"GlyphRenderer\"}]],[\"1\",[{\"id\":\"ad197f44-5f74-4b64-bacb-8117f56ceefc\",\"type\":\"GlyphRenderer\"},{\"id\":\"b0a4db9b-f313-4136-8581-91c53b6ab698\",\"type\":\"GlyphRenderer\"},{\"id\":\"0d820a74-181c-474e-bac4-3bc2dfa204c9\",\"type\":\"GlyphRenderer\"},{\"id\":\"ce0b5ed4-d271-45c2-93f1-e7298b75990d\",\"type\":\"GlyphRenderer\"}]],[\"2\",[{\"id\":\"af90adc2-6e44-41b7-b845-3d2df61a1c16\",\"type\":\"GlyphRenderer\"},{\"id\":\"0efcaf00-bfb4-421a-82ae-f04961575990\",\"type\":\"GlyphRenderer\"},{\"id\":\"b292bd03-71fa-4b18-99cb-4f0dcfd7f12c\",\"type\":\"GlyphRenderer\"}]],[\"3\",[{\"id\":\"f3c3259e-7b6c-4c16-8fcb-657207117d05\",\"type\":\"GlyphRenderer\"},{\"id\":\"28a6812b-1550-4e97-8f61-a6d153fa3986\",\"type\":\"GlyphRenderer\"},{\"id\":\"f673897b-a446-4c56-85aa-5ca786986ee1\",\"type\":\"GlyphRenderer\"},{\"id\":\"2791861a-37b0-44c4-ab13-ee28e4c969be\",\"type\":\"GlyphRenderer\"}]],[\"5\",[{\"id\":\"a9960e07-d57e-4e55-99a2-cb92f4429d68\",\"type\":\"GlyphRenderer\"},{\"id\":\"c525b09b-6c12-4d2c-ae08-ec48f4ab517e\",\"type\":\"GlyphRenderer\"},{\"id\":\"1e00741d-6645-4735-bcdf-1a3c5be6cfc2\",\"type\":\"GlyphRenderer\"}]],[\"6\",[{\"id\":\"3ff40892-38ef-4239-be77-428c9df08591\",\"type\":\"GlyphRenderer\"},{\"id\":\"0831ba62-bb44-40db-81de-32b5c120c62c\",\"type\":\"GlyphRenderer\"},{\"id\":\"9545bcd1-4f3c-452d-a227-47b989317c80\",\"type\":\"GlyphRenderer\"}]],[\"4\",[{\"id\":\"ac95349b-2325-4456-aa9d-84fb66ca0153\",\"type\":\"GlyphRenderer\"},{\"id\":\"7ed6f2ea-06b4-46ab-b3da-6966af52ef2d\",\"type\":\"GlyphRenderer\"},{\"id\":\"8bc4fc5d-b483-41c3-a6c5-3df94d4d7e86\",\"type\":\"GlyphRenderer\"},{\"id\":\"b2d6a7c9-1440-41f9-8f9a-8287c3014978\",\"type\":\"GlyphRenderer\"}]]],\"location\":\"bottom_right\",\"plot\":{\"id\":\"fd36403e-5a48-414d-8249-b40aa868c62d\",\"subtype\":\"Chart\",\"type\":\"Plot\"}},\"id\":\"8ff1e6c4-3d84-4ff7-b1b2-5d187e9fc953\",\"type\":\"Legend\"},{\"attributes\":{\"line_width\":{\"value\":2},\"x0\":{\"field\":\"x0s\"},\"x1\":{\"field\":\"x1s\"},\"y0\":{\"field\":\"y0s\"},\"y1\":{\"field\":\"y1s\"}},\"id\":\"2f740c07-f22e-494f-a634-34f920f2b168\",\"type\":\"Segment\"},{\"attributes\":{\"plot\":null,\"text\":\"Distribui\\u00e7\\u00e3o da m\\u00e9dia de notas das disciplinas\"},\"id\":\"1e15279f-69d6-4bef-a7e9-2877d8ed72d1\",\"type\":\"Title\"},{\"attributes\":{\"data_source\":{\"id\":\"03f56af1-e2ba-4fdb-aaf4-7eb0b9482209\",\"type\":\"ColumnDataSource\"},\"glyph\":{\"id\":\"12f57cbb-fc37-43ee-8ae0-b087c2221441\",\"type\":\"Rect\"},\"hover_glyph\":null,\"nonselection_glyph\":null,\"selection_glyph\":null},\"id\":\"ad197f44-5f74-4b64-bacb-8117f56ceefc\",\"type\":\"GlyphRenderer\"}],\"root_ids\":[\"fd36403e-5a48-414d-8249-b40aa868c62d\"]},\"title\":\"Bokeh Application\",\"version\":\"0.12.2\"}};\n",
       "            var render_items = [{\"docid\":\"72fb049c-342b-4880-ac5d-7931bf9c5b4b\",\"elementid\":\"aabe9a62-d708-4ad8-ad66-6d5b7f7bcf26\",\"modelid\":\"fd36403e-5a48-414d-8249-b40aa868c62d\"}];\n",
       "            \n",
       "            Bokeh.embed.embed_items(docs_json, render_items);\n",
       "        });\n",
       "      },\n",
       "      function(Bokeh) {\n",
       "      }\n",
       "    ];\n",
       "  \n",
       "    function run_inline_js() {\n",
       "      \n",
       "      if ((window.Bokeh !== undefined) || (force === \"1\")) {\n",
       "        for (var i = 0; i < inline_js.length; i++) {\n",
       "          inline_js[i](window.Bokeh);\n",
       "        }if (force === \"1\") {\n",
       "          display_loaded();\n",
       "        }} else if (Date.now() < window._bokeh_timeout) {\n",
       "        setTimeout(run_inline_js, 100);\n",
       "      } else if (!window._bokeh_failed_load) {\n",
       "        console.log(\"Bokeh: BokehJS failed to load within specified timeout.\");\n",
       "        window._bokeh_failed_load = true;\n",
       "      } else if (!force) {\n",
       "        var cell = $(\"#aabe9a62-d708-4ad8-ad66-6d5b7f7bcf26\").parents('.cell').data().cell;\n",
       "        cell.output_area.append_execute_result(NB_LOAD_WARNING)\n",
       "      }\n",
       "  \n",
       "    }\n",
       "  \n",
       "    if (window._bokeh_is_loading === 0) {\n",
       "      console.log(\"Bokeh: BokehJS loaded, going straight to plotting\");\n",
       "      run_inline_js();\n",
       "    } else {\n",
       "      load_libs(js_urls, function() {\n",
       "        console.log(\"Bokeh: BokehJS plotting callback run at\", now());\n",
       "        run_inline_js();\n",
       "      });\n",
       "    }\n",
       "  }(this));\n",
       "</script>"
      ]
     },
     "metadata": {},
     "output_type": "display_data"
    }
   ],
   "source": [
    "# Import BoxPlot, output_notebook, and show from bokeh.charts\n",
    "from bokeh.charts import BoxPlot, output_notebook, show\n",
    "\n",
    "# Make a box plot: p\n",
    "p = BoxPlot(disciplinas_categorias, values='nota', label='disciplina_ID',\n",
    "             title='Distribuição da média de notas das disciplinas',\n",
    "             legend='bottom_right')\n",
    "\n",
    "# Set the y axis label\n",
    "p.yaxis.axis_label='Média por período)'\n",
    "\n",
    "# Call the output_notebook() \n",
    "output_notebook()\n",
    "show(p)"
   ]
  },
  {
   "cell_type": "code",
   "execution_count": null,
   "metadata": {
    "collapsed": true
   },
   "outputs": [],
   "source": []
  }
 ],
 "metadata": {
  "anaconda-cloud": {},
  "kernelspec": {
   "display_name": "Python [default]",
   "language": "python",
   "name": "python3"
  },
  "language_info": {
   "codemirror_mode": {
    "name": "ipython",
    "version": 3
   },
   "file_extension": ".py",
   "mimetype": "text/x-python",
   "name": "python",
   "nbconvert_exporter": "python",
   "pygments_lexer": "ipython3",
   "version": "3.5.2"
  }
 },
 "nbformat": 4,
 "nbformat_minor": 2
}
